{
 "cells": [
  {
   "cell_type": "markdown",
   "metadata": {},
   "source": [
    "# Problem\n",
    "\n",
    "    In energy production, the power grid is a a large directed graph of energy consumers and producers. At times you need to cut at certain nodes and trim demand because you cannot supply enough of a load.\n",
    "\n",
    "    In DailyProgrammeropolis, all buildings are connected to the grid and all consume power to varying degrees. Some generate power because they have installed on-site generation and sell the excess to the grid, some do not.\n",
    "\n",
    "    The scenario you're facing is this: due to a fault with the bulk power generation facility not local to DailyProgrammerololis, you must trim the power grid. You have connectivity data, and power consumption and production data. Your goal with this challenge is to maximize the number of powered nodes with the generated energy you have. Note that when you cut off a node, you run the risk the downstream ones will loose power, too, if they are no longer connected. This is how you'll shed demand, by selectively cutting the graph. You can make as many cuts as you want (there is no restriction on this).\n",
    "   \n",
    "# Input\n",
    "\n",
    "    You'll be given an extensive set of data for this challenge. The first set of data looks like this: you'll be given a single integer on one line telling you how many nodes to read. Then you'll be given those nodes, one per line, with the node ID, the amount of power it consumes in kWH, then how much the node generates in kWH. Not all nodes produce electricity, but some do (e.g. a wind farm, solar cells, etc), and there is obviously one that generates the most - that's your main power plant.\n",
    "    \n",
    "    The next set of data is the edge data. The first line is how many edges to read, then the next N lines have data showing how the nodes are connected (e.g. power flows from node a to b).\n",
    "    \n",
    "# Output\n",
    "\n",
    "    Your program should emit a list of edges to sever as a list of (i,j) two tuples. Multiple answers are possible. You may wind up with a number of small islands as opposed to one powered network."
   ]
  },
  {
   "cell_type": "markdown",
   "metadata": {},
   "source": [
    "# Pseudo\n",
    "\n",
    "    This graph can be approached as a directed gaph.\n",
    "    For each edge in microgrid_edges, create 2 directed edges.\n",
    "    Each has weight equal to tail of directed edge.\n",
    "    \n",
    "    Search for a Minimum Spanning Arborescence (MSA) on this graph.\n",
    "    \n",
    "    To allow for islands, \n",
    "    we add a dummy node that connects all nodes with net power generation > 0.\n",
    "    \n",
    "    Then we start removing leaves with max weight, untill the total power consumption <= production.\n",
    "    \n",
    "    As each edge of this modified MSA has a corresponding edge in the original graph,\n",
    "    we can use this solution for the undirected graph.\n",
    "    \n",
    "    I am not certain that this solution is optimal."
   ]
  },
  {
   "cell_type": "markdown",
   "metadata": {},
   "source": [
    "# Nodes and edges"
   ]
  },
  {
   "cell_type": "code",
   "execution_count": 205,
   "metadata": {
    "collapsed": true
   },
   "outputs": [],
   "source": [
    "with open('nodes.txt') as file:\n",
    "    space = [line for line in file.read().split('\\n')]\n",
    "\n",
    "size_n = int(space[0])\n",
    "l_nodes = [[int(float(x)*10**3) for x in line.split(' ')] for line in space[1:]]\n",
    "d_nodes = {x//10**3:(z-y) for x,y,z in l_nodes}"
   ]
  },
  {
   "cell_type": "code",
   "execution_count": 206,
   "metadata": {
    "collapsed": true
   },
   "outputs": [],
   "source": [
    "with open('microgrid_edges.txt') as file:\n",
    "    space = [line for line in file.read().split('\\n')]\n",
    "    \n",
    "size_e = int(space[0])\n",
    "l_edges = [[int(x) for x in line.split(' ')] for line in space[1:-1]]\n",
    "d_edges = {x:set() for x in range(size_n)}\n",
    "for x,y in l_edges:\n",
    "    d_edges[x].add(y)\n",
    "    d_edges[y].add(x)   "
   ]
  },
  {
   "cell_type": "markdown",
   "metadata": {},
   "source": [
    "# Dummy Node"
   ]
  },
  {
   "cell_type": "code",
   "execution_count": 207,
   "metadata": {},
   "outputs": [],
   "source": [
    "d_edges[-1] = set()\n",
    "for x,y in d_nodes.items():\n",
    "    if y >= 0:\n",
    "        d_edges[-1].add(x)\n",
    "        d_edges[x].add(-1)\n",
    "d_nodes[-1] = 0"
   ]
  },
  {
   "cell_type": "markdown",
   "metadata": {},
   "source": [
    "# Minimum spanning arborescence\n",
    "\n",
    "- [Wiki](https://en.wikipedia.org/wiki/Minimum_spanning_tree) about minimum spanning tree\n",
    "\n",
    "- [Wiki](https://en.wikipedia.org/wiki/Arborescence_(graph_theory) on arborescence\n",
    "\n",
    "- [Stackoverflow](https://stackoverflow.com/questions/23988236/chu-liu-edmonds-algorithm-for-minimum-spanning-tree-on-directed-graphs) code source\n"
   ]
  },
  {
   "cell_type": "code",
   "execution_count": 208,
   "metadata": {},
   "outputs": [],
   "source": [
    "#!/usr/bin/env python3\n",
    "from collections import defaultdict, namedtuple\n",
    "\n",
    "Arc = namedtuple('Arc', ('tail', 'weight', 'head'))\n",
    "\n",
    "def min_spanning_arborescence(arcs, sink):\n",
    "    good_arcs = []\n",
    "    quotient_map = {arc.tail: arc.tail for arc in arcs}\n",
    "    quotient_map[sink] = sink\n",
    "    while True:\n",
    "        min_arc_by_tail_rep = {}\n",
    "        successor_rep = {}\n",
    "        for arc in arcs:\n",
    "            if arc.tail == sink:\n",
    "                continue\n",
    "            tail_rep = quotient_map[arc.tail]\n",
    "            head_rep = quotient_map[arc.head]\n",
    "            if tail_rep == head_rep:\n",
    "                continue\n",
    "            if tail_rep not in min_arc_by_tail_rep or min_arc_by_tail_rep[tail_rep].weight > arc.weight:\n",
    "                min_arc_by_tail_rep[tail_rep] = arc\n",
    "                successor_rep[tail_rep] = head_rep\n",
    "        cycle_reps = find_cycle(successor_rep, sink)\n",
    "        if cycle_reps is None:\n",
    "            good_arcs.extend(min_arc_by_tail_rep.values())\n",
    "            return spanning_arborescence(good_arcs, sink)\n",
    "        good_arcs.extend(min_arc_by_tail_rep[cycle_rep] for cycle_rep in cycle_reps)\n",
    "        cycle_rep_set = set(cycle_reps)\n",
    "        cycle_rep = cycle_rep_set.pop()\n",
    "        quotient_map = {node: cycle_rep if node_rep in cycle_rep_set else node_rep for node, node_rep in quotient_map.items()}\n",
    "\n",
    "\n",
    "def find_cycle(successor, sink):\n",
    "    visited = {sink}\n",
    "    for node in successor:\n",
    "        cycle = []\n",
    "        while node not in visited:\n",
    "            visited.add(node)\n",
    "            cycle.append(node)\n",
    "            node = successor[node]\n",
    "        if node in cycle:\n",
    "            return cycle[cycle.index(node):]\n",
    "    return None\n",
    "\n",
    "\n",
    "def spanning_arborescence(arcs, sink):\n",
    "    arcs_by_head = defaultdict(list)\n",
    "    for arc in arcs:\n",
    "        if arc.tail == sink:\n",
    "            continue\n",
    "        arcs_by_head[arc.head].append(arc)\n",
    "    solution_arc_by_tail = {}\n",
    "    stack = arcs_by_head[sink]\n",
    "    while stack:\n",
    "        arc = stack.pop()\n",
    "        if arc.tail in solution_arc_by_tail:\n",
    "            continue\n",
    "        solution_arc_by_tail[arc.tail] = arc\n",
    "        stack.extend(arcs_by_head[arc.tail])\n",
    "    return solution_arc_by_tail\n",
    "\n",
    "# min_spanning_arborescence([Arc(1, 17, 0),  Arc(2, 16, 0),  Arc(3, 19, 0),  Arc(4, 16, 0),  Arc(5, 16, 0),  Arc(6, 18, 0),  Arc(2, 3, 1),  Arc(3, 3, 1),  Arc(4, 11, 1),  Arc(5, 10, 1),  Arc(6, 12, 1),  Arc(1, 3, 2),  Arc(3, 4, 2),  Arc(4, 8, 2),  Arc(5, 8, 2),  Arc(6, 11, 2),  Arc(1, 3, 3),  Arc(2, 4, 3),  Arc(4, 12, 3),  Arc(5, 11, 3),  Arc(6, 14, 3),  Arc(1, 11, 4),  Arc(2, 8, 4),  Arc(3, 12, 4),  Arc(5, 6, 4),  Arc(6, 10, 4),  Arc(1, 10, 5),  Arc(2, 8, 5),  Arc(3, 11, 5),  Arc(4, 6, 5),  Arc(6, 4, 5),  Arc(1, 12, 6),  Arc(2, 11, 6),  Arc(3, 14, 6),  Arc(4, 10, 6),  Arc(5, 4, 6)], 0)"
   ]
  },
  {
   "cell_type": "markdown",
   "metadata": {},
   "source": [
    "We use the big power hub, at node 100, as the source for the MSA."
   ]
  },
  {
   "cell_type": "code",
   "execution_count": 209,
   "metadata": {},
   "outputs": [],
   "source": [
    "Arcs = []\n",
    "\n",
    "for x,edges in d_edges.items():\n",
    "    for edge in edges:        \n",
    "        Arcs.append(Arc(x,-d_nodes[edge],edge))\n",
    "\n",
    "MSA = min_spanning_arborescence(Arcs,100)"
   ]
  },
  {
   "cell_type": "code",
   "execution_count": 210,
   "metadata": {},
   "outputs": [],
   "source": [
    "MSA_edges = {x:[set(),set(),y] for x,y in d_nodes.items()}\n",
    "\n",
    "for tail,weight,head in MSA.values():\n",
    "    MSA_edges[tail][0].add(head) \n",
    "    MSA_edges[head][1].add(tail)    "
   ]
  },
  {
   "cell_type": "code",
   "execution_count": 211,
   "metadata": {},
   "outputs": [],
   "source": [
    "import heapq\n",
    "\n",
    "total = sum(x[2] for x in MSA_edges.values())\n",
    "\n",
    "while total < 0:\n",
    "    heap = []\n",
    "    for x,y in MSA_edges.items():\n",
    "        if not y[1]:\n",
    "            heapq.heappush(heap,(y[2],x))\n",
    "    change, node = heapq.heappop(heap)\n",
    "    total -= change\n",
    "    MSA_edges[MSA_edges[node][0].pop()][1].discard(node)\n",
    "    MSA_edges.pop(node)    "
   ]
  },
  {
   "cell_type": "code",
   "execution_count": 212,
   "metadata": {},
   "outputs": [
    {
     "data": {
      "text/plain": [
       "(88, 1597)"
      ]
     },
     "execution_count": 212,
     "metadata": {},
     "output_type": "execute_result"
    }
   ],
   "source": [
    "MSA_edges.pop(-1)\n",
    "len(MSA_edges),sum(x[2] for x in MSA_edges.values())"
   ]
  },
  {
   "cell_type": "code",
   "execution_count": 213,
   "metadata": {},
   "outputs": [
    {
     "data": {
      "text/plain": [
       "dict_keys([0, 2, 4, 5, 6, 8, 10, 11, 12, 13, 14, 16, 17, 18, 19, 20, 21, 22, 23, 24, 25, 28, 29, 30, 31, 32, 33, 34, 35, 36, 37, 38, 39, 40, 41, 42, 43, 44, 45, 46, 50, 51, 52, 53, 54, 55, 56, 57, 58, 59, 61, 62, 63, 64, 65, 66, 67, 68, 69, 70, 71, 72, 73, 74, 76, 77, 78, 79, 80, 81, 82, 83, 84, 85, 86, 87, 88, 89, 90, 91, 92, 93, 94, 95, 97, 98, 99, 100])"
      ]
     },
     "execution_count": 213,
     "metadata": {},
     "output_type": "execute_result"
    }
   ],
   "source": [
    "MSA_edges.keys()"
   ]
  },
  {
   "cell_type": "markdown",
   "metadata": {},
   "source": [
    "# Solution\n",
    "\n",
    "    Your program should emit a list of edges to sever as a list of (i,j) two tuples. \n",
    "    Multiple answers are possible. \n",
    "    You may wind up with a number of small islands as opposed to one powered network.\n",
    "      \n",
    " *You can make as many cuts as you want*\n",
    " \n",
    "    Rather than returning a list of all to removen, i return a list of all edges that should not be broken."
   ]
  },
  {
   "cell_type": "code",
   "execution_count": 219,
   "metadata": {},
   "outputs": [
    {
     "data": {
      "text/plain": [
       "[(0, 34),\n",
       " (2, 81),\n",
       " (4, 61),\n",
       " (5, 84),\n",
       " (6, 95),\n",
       " (8, 36),\n",
       " (10, 54),\n",
       " (11, 54),\n",
       " (12, 36),\n",
       " (13, 2),\n",
       " (14, 55),\n",
       " (16, 5),\n",
       " (17, 78),\n",
       " (18, 100),\n",
       " (19, 95),\n",
       " (20, 5),\n",
       " (21, 100),\n",
       " (22, 20),\n",
       " (23, 91),\n",
       " (24, 64),\n",
       " (25, 94),\n",
       " (28, 84),\n",
       " (29, 91),\n",
       " (30, 34),\n",
       " (31, 77),\n",
       " (32, 64),\n",
       " (33, 10),\n",
       " (34, -1),\n",
       " (35, 61),\n",
       " (36, 100),\n",
       " (37, 65),\n",
       " (38, 22),\n",
       " (39, 84),\n",
       " (40, 100),\n",
       " (41, 91),\n",
       " (42, 95),\n",
       " (43, 2),\n",
       " (44, 80),\n",
       " (45, 78),\n",
       " (46, 61),\n",
       " (50, 74),\n",
       " (51, 84),\n",
       " (52, 5),\n",
       " (53, 5),\n",
       " (54, 20),\n",
       " (55, 32),\n",
       " (56, 55),\n",
       " (57, 61),\n",
       " (58, 61),\n",
       " (59, 36),\n",
       " (61, 34),\n",
       " (62, 84),\n",
       " (63, 55),\n",
       " (64, 90),\n",
       " (65, 61),\n",
       " (66, 90),\n",
       " (67, 34),\n",
       " (68, 91),\n",
       " (69, 36),\n",
       " (70, 82),\n",
       " (71, 84),\n",
       " (72, 55),\n",
       " (73, 84),\n",
       " (74, 73),\n",
       " (76, 100),\n",
       " (77, 100),\n",
       " (78, 64),\n",
       " (79, 2),\n",
       " (80, 78),\n",
       " (81, 68),\n",
       " (82, -1),\n",
       " (83, 82),\n",
       " (84, -1),\n",
       " (85, 55),\n",
       " (86, 62),\n",
       " (87, 2),\n",
       " (88, 91),\n",
       " (89, 100),\n",
       " (90, 100),\n",
       " (91, 100),\n",
       " (92, 61),\n",
       " (93, 91),\n",
       " (94, 90),\n",
       " (95, 69),\n",
       " (97, 62),\n",
       " (98, 36),\n",
       " (99, 32)]"
      ]
     },
     "execution_count": 219,
     "metadata": {},
     "output_type": "execute_result"
    }
   ],
   "source": [
    "output = [(x,*y[0]) for x,y in MSA_edges.items() if y[0]]\n",
    "output"
   ]
  }
 ],
 "metadata": {
  "kernelspec": {
   "display_name": "Python 3",
   "language": "python",
   "name": "python3"
  },
  "language_info": {
   "codemirror_mode": {
    "name": "ipython",
    "version": 3
   },
   "file_extension": ".py",
   "mimetype": "text/x-python",
   "name": "python",
   "nbconvert_exporter": "python",
   "pygments_lexer": "ipython3",
   "version": "3.6.1"
  }
 },
 "nbformat": 4,
 "nbformat_minor": 2
}
