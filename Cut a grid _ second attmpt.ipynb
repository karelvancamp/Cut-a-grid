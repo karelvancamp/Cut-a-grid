{
 "cells": [
  {
   "cell_type": "markdown",
   "metadata": {},
   "source": [
    "# Problem\n",
    "\n",
    "    In energy production, the power grid is a a large directed graph of energy consumers and producers. At times you need to cut at certain nodes and trim demand because you cannot supply enough of a load.\n",
    "\n",
    "    In DailyProgrammeropolis, all buildings are connected to the grid and all consume power to varying degrees. Some generate power because they have installed on-site generation and sell the excess to the grid, some do not.\n",
    "\n",
    "    The scenario you're facing is this: due to a fault with the bulk power generation facility not local to DailyProgrammerololis, you must trim the power grid. You have connectivity data, and power consumption and production data. Your goal with this challenge is to maximize the number of powered nodes with the generated energy you have. Note that when you cut off a node, you run the risk the downstream ones will loose power, too, if they are no longer connected. This is how you'll shed demand, by selectively cutting the graph. You can make as many cuts as you want (there is no restriction on this).\n",
    "   \n",
    "# Input\n",
    "\n",
    "    You'll be given an extensive set of data for this challenge. The first set of data looks like this: you'll be given a single integer on one line telling you how many nodes to read. Then you'll be given those nodes, one per line, with the node ID, the amount of power it consumes in kWH, then how much the node generates in kWH. Not all nodes produce electricity, but some do (e.g. a wind farm, solar cells, etc), and there is obviously one that generates the most - that's your main power plant.\n",
    "    \n",
    "    The next set of data is the edge data. The first line is how many edges to read, then the next N lines have data showing how the nodes are connected (e.g. power flows from node a to b).\n",
    "    \n",
    "# Output\n",
    "\n",
    "    Your program should emit a list of edges to sever as a list of (i,j) two tuples. Multiple answers are possible. You may wind up with a number of small islands as opposed to one powered network."
   ]
  },
  {
   "cell_type": "markdown",
   "metadata": {},
   "source": [
    "# Pseudo\n",
    "\n",
    "    For ease of use i call the power of a node = production - consumption.\n",
    "    \n",
    "    There are only 7 of nodes in the graph that have a postive power, \n",
    "    [100, 90, 61, 84, 34, 82, 36]\n",
    "    Note that these form 4 clusters of nodes that are directly connected. \n",
    "    (100,90,36),(34,61),(84),(82)\n",
    "       \n",
    "    A greedy approximation would be to grow these clusters by looking for the smallest power consuming leaves,\n",
    "    reducing surplus per cluster gradually, untill no futher nodes can be added.\n",
    "    \n",
    "    If during this growth, the clusters connect, merge them.\n",
    "    This will allow using the leftover power.\n",
    "    \n",
    "    This will results in a small number of disconnected clusters which satisfy the power constraint,\n",
    "    and which contain many nodes of the graph.\n",
    "    \n",
    "    I verify if this solution is optimal or not.\n",
    "    "
   ]
  },
  {
   "cell_type": "code",
   "execution_count": 1,
   "metadata": {
    "collapsed": true
   },
   "outputs": [],
   "source": [
    "import heapq\n",
    "from collections import deque"
   ]
  },
  {
   "cell_type": "markdown",
   "metadata": {},
   "source": [
    "# Prepare data"
   ]
  },
  {
   "cell_type": "code",
   "execution_count": 2,
   "metadata": {},
   "outputs": [],
   "source": [
    "with open('nodes.txt') as file:\n",
    "    space = [line for line in file.read().split('\\n')]\n",
    "\n",
    "size_n = int(space[0])\n",
    "l_nodes = [[int(float(x)*10**3) for x in line.split(' ')] for line in space[1:]]\n",
    "d_nodes = {x//10**3:(z-y) for x,y,z in l_nodes}\n",
    "\n",
    "with open('microgrid_edges.txt') as file:\n",
    "    space = [line for line in file.read().split('\\n')]\n",
    "    \n",
    "l_edges = [[int(x) for x in line.split(' ')] for line in space[1:-1]]\n",
    "d_edges = {x:[] for x in range(size_n)}\n",
    "\n",
    "for x,y in l_edges:\n",
    "    d_edges[x].append(y)\n",
    "    d_edges[y].append(x)   \n",
    "    \n",
    "hubs = sorted([(x,y) for x,y in d_nodes.items() if y > 0],key = lambda x:x[1], reverse = True)\n",
    "\n",
    "clusters = {node:[1,power,set([node]),[]] for node,power in hubs}\n",
    "unpowered_nodes = set(x for x in range(101) if not x in clusters)\n",
    "\n",
    "for x,y in clusters.items():\n",
    "    for edge in d_edges[x]:\n",
    "        heapq.heappush(y[3],(-d_nodes[edge],edge))  "
   ]
  },
  {
   "cell_type": "markdown",
   "metadata": {},
   "source": [
    "# Grow and merge clusters\n",
    "\n",
    "    A greedy approximation would be to grow these clusters by looking for the smallest power consuming leaves,\n",
    "    reducing surplus per cluster gradually, untill no futher nodes can be added.\n",
    "\n",
    "    If during this growth, the clusters connect, merge them.\n",
    "    This will allow using the leftover power."
   ]
  },
  {
   "cell_type": "code",
   "execution_count": 3,
   "metadata": {},
   "outputs": [
    {
     "data": {
      "text/plain": [
       "(13, {1, 3, 7, 9, 15, 26, 27, 47, 48, 49, 60, 75, 96})"
      ]
     },
     "execution_count": 3,
     "metadata": {},
     "output_type": "execute_result"
    }
   ],
   "source": [
    "while any(x[0] for x in clusters.values() if x[0]):\n",
    "    \n",
    "    for current,c_cluster in clusters.items():\n",
    "        \n",
    "        # only active clusters\n",
    "        if c_cluster[0]:\n",
    "            \n",
    "            w,n = heapq.heappop(c_cluster[3])\n",
    "    \n",
    "            # add node to cluster if possible\n",
    "            if n in unpowered_nodes:\n",
    "                if w <= c_cluster[1]:\n",
    "                    clusters[current][1] -= w\n",
    "                    clusters[current][2].add(n)\n",
    "                    for x in d_edges[n]:\n",
    "                        if x in unpowered_nodes:\n",
    "                            heapq.heappush(clusters[current][3],(-d_nodes[x],x))\n",
    "                    unpowered_nodes.remove(n)\n",
    "                    \n",
    "                else:\n",
    "                    # set cluster inactive\n",
    "                    clusters[current][0] = 0\n",
    "            \n",
    "            # powered but not in cluster indicates it's part of another cluster\n",
    "            elif not n in c_cluster[2]:\n",
    "                for other,o_cluster in clusters.items():\n",
    "                    \n",
    "                    # merge current cluster with other\n",
    "                    if n in o_cluster[2]:\n",
    "                        clusters[other][1] += clusters[current][1]                \n",
    "                        clusters[other][2] |= clusters[current][2]\n",
    "                        clusters[other][3] = list(heapq.merge(clusters[other][3],clusters[current][3]))\n",
    "                        \n",
    "                        # set current cluster inactive, and clear\n",
    "                        clusters[current] = [0,0,set(),[]]        \n",
    "    \n",
    "len(unpowered_nodes),unpowered_nodes"
   ]
  },
  {
   "cell_type": "markdown",
   "metadata": {},
   "source": [
    "# Check optimality\n",
    "\n",
    "     There are a number of scenario's:\n",
    "     \n",
    "     There is a path between clusters that has smaller weight than the combined leftover power of these hubs.\n",
    "     or\n",
    "     There are nodes with smaller power than any of the leftovers. \n",
    "     \n",
    "     In the case when there are no unpowered nodes left with power less than total leftovers,\n",
    "     we can be certain the result is optimal. Luckily this is the case"
   ]
  },
  {
   "cell_type": "code",
   "execution_count": 4,
   "metadata": {},
   "outputs": [
    {
     "name": "stdout",
     "output_type": "stream",
     "text": [
      "The solution is optimal is True\n"
     ]
    }
   ],
   "source": [
    "leftover = [y[1] for y in clusters.values() if y[1]]\n",
    "min_unpowered = min(-d_nodes[x] for x in unpowered_nodes)\n",
    "\n",
    "print('The solution is optimal is '+str(sum(leftover) < min_unpowered))"
   ]
  },
  {
   "cell_type": "markdown",
   "metadata": {},
   "source": [
    "# Solution\n",
    "\n",
    "    Emit a list of edges to sever as a list of (i,j) two tuples\n",
    "    \n",
    "    At this point we can simply sever the connections between unpowered and powered."
   ]
  },
  {
   "cell_type": "code",
   "execution_count": 5,
   "metadata": {},
   "outputs": [],
   "source": [
    "edges_to_sever = []\n",
    "for unpowered in unpowered_nodes:\n",
    "    for edge in d_edges[unpowered]:\n",
    "        if edge not in unpowered_nodes:\n",
    "            edges_to_sever.append((unpowered,edge))\n",
    "\n",
    "# print(edges_to_sever)"
   ]
  },
  {
   "cell_type": "markdown",
   "metadata": {},
   "source": [
    "# Visualize solution trees\n",
    "\n",
    "    For each cluster with leftover power, we'll create a MST.\n",
    "    These edges will be used to display the connection trees."
   ]
  },
  {
   "cell_type": "code",
   "execution_count": 6,
   "metadata": {},
   "outputs": [
    {
     "name": "stdout",
     "output_type": "stream",
     "text": [
      "[(84, 5), (34, 0), (34, 28), (34, 30), (34, 61), (34, 67), (34, 94), (0, 19), (0, 21), (0, 23), (0, 25), (0, 41), (0, 42), (0, 65), (0, 77), (28, 52), (28, 69), (28, 70), (28, 78), (28, 83), (28, 98), (28, 99), (30, 4), (30, 6), (30, 17), (30, 29), (30, 35), (30, 53), (30, 85), (30, 89), (30, 92), (30, 95), (61, 40), (61, 46), (61, 57), (61, 58), (61, 76), (67, 66), (67, 36), (67, 10), (67, 59), (67, 91), (94, 71), (94, 80), (94, 81), (94, 51), (94, 22), (94, 90), (94, 31), (94, 63), (19, 50), (19, 73), (19, 79), (19, 88), (21, 12), (21, 14), (21, 87), (21, 100), (23, 11), (23, 93), (41, 45), (42, 33), (42, 16), (42, 72), (42, 86), (65, 37), (77, 68), (77, 39), (52, 24), (69, 64), (69, 20), (69, 56), (70, 32), (70, 18), (70, 97), (83, 38), (83, 43), (83, 54), (83, 55), (98, 62), (4, 8), (4, 44), (57, 13), (76, 2), (50, 74)]\n"
     ]
    }
   ],
   "source": [
    "tree = []\n",
    "active_clusters = [x for x,y in clusters.items() if y[2]]\n",
    "\n",
    "for cluster in active_clusters:\n",
    "    todo_nodes = clusters[cluster][2].difference({cluster})\n",
    "    stack = deque((cluster, x) for x in d_edges[cluster] if x in todo_nodes)\n",
    "    \n",
    "    while stack:\n",
    "        prev,nex = stack.popleft()\n",
    "        if nex in todo_nodes:\n",
    "            todo_nodes.remove(nex)\n",
    "            stack += [(nex, x) for x in d_edges[nex] if x in todo_nodes]\n",
    "            tree.append((prev,nex))\n",
    "            \n",
    "print(tree)"
   ]
  },
  {
   "cell_type": "code",
   "execution_count": 7,
   "metadata": {},
   "outputs": [
    {
     "name": "stdout",
     "output_type": "stream",
     "text": [
      "\"84\" -> \"5\"\n",
      "\"34\" -> \"0\"\n",
      "\"34\" -> \"28\"\n",
      "\"34\" -> \"30\"\n",
      "\"34\" -> \"61\"\n",
      "\"34\" -> \"67\"\n",
      "\"34\" -> \"94\"\n",
      "\"0\" -> \"19\"\n",
      "\"0\" -> \"21\"\n",
      "\"0\" -> \"23\"\n",
      "\"0\" -> \"25\"\n",
      "\"0\" -> \"41\"\n",
      "\"0\" -> \"42\"\n",
      "\"0\" -> \"65\"\n",
      "\"0\" -> \"77\"\n",
      "\"28\" -> \"52\"\n",
      "\"28\" -> \"69\"\n",
      "\"28\" -> \"70\"\n",
      "\"28\" -> \"78\"\n",
      "\"28\" -> \"83\"\n",
      "\"28\" -> \"98\"\n",
      "\"28\" -> \"99\"\n",
      "\"30\" -> \"4\"\n",
      "\"30\" -> \"6\"\n",
      "\"30\" -> \"17\"\n",
      "\"30\" -> \"29\"\n",
      "\"30\" -> \"35\"\n",
      "\"30\" -> \"53\"\n",
      "\"30\" -> \"85\"\n",
      "\"30\" -> \"89\"\n",
      "\"30\" -> \"92\"\n",
      "\"30\" -> \"95\"\n",
      "\"61\" -> \"40\"\n",
      "\"61\" -> \"46\"\n",
      "\"61\" -> \"57\"\n",
      "\"61\" -> \"58\"\n",
      "\"61\" -> \"76\"\n",
      "\"67\" -> \"66\"\n",
      "\"67\" -> \"36\"\n",
      "\"67\" -> \"10\"\n",
      "\"67\" -> \"59\"\n",
      "\"67\" -> \"91\"\n",
      "\"94\" -> \"71\"\n",
      "\"94\" -> \"80\"\n",
      "\"94\" -> \"81\"\n",
      "\"94\" -> \"51\"\n",
      "\"94\" -> \"22\"\n",
      "\"94\" -> \"90\"\n",
      "\"94\" -> \"31\"\n",
      "\"94\" -> \"63\"\n",
      "\"19\" -> \"50\"\n",
      "\"19\" -> \"73\"\n",
      "\"19\" -> \"79\"\n",
      "\"19\" -> \"88\"\n",
      "\"21\" -> \"12\"\n",
      "\"21\" -> \"14\"\n",
      "\"21\" -> \"87\"\n",
      "\"21\" -> \"100\"\n",
      "\"23\" -> \"11\"\n",
      "\"23\" -> \"93\"\n",
      "\"41\" -> \"45\"\n",
      "\"42\" -> \"33\"\n",
      "\"42\" -> \"16\"\n",
      "\"42\" -> \"72\"\n",
      "\"42\" -> \"86\"\n",
      "\"65\" -> \"37\"\n",
      "\"77\" -> \"68\"\n",
      "\"77\" -> \"39\"\n",
      "\"52\" -> \"24\"\n",
      "\"69\" -> \"64\"\n",
      "\"69\" -> \"20\"\n",
      "\"69\" -> \"56\"\n",
      "\"70\" -> \"32\"\n",
      "\"70\" -> \"18\"\n",
      "\"70\" -> \"97\"\n",
      "\"83\" -> \"38\"\n",
      "\"83\" -> \"43\"\n",
      "\"83\" -> \"54\"\n",
      "\"83\" -> \"55\"\n",
      "\"98\" -> \"62\"\n",
      "\"4\" -> \"8\"\n",
      "\"4\" -> \"44\"\n",
      "\"57\" -> \"13\"\n",
      "\"76\" -> \"2\"\n",
      "\"50\" -> \"74\"\n"
     ]
    }
   ],
   "source": [
    "for x in tree: print('\"'+str(x[0])+'\" -> \"'+str(x[1])+'\"')"
   ]
  },
  {
   "cell_type": "code",
   "execution_count": null,
   "metadata": {
    "collapsed": true
   },
   "outputs": [],
   "source": []
  }
 ],
 "metadata": {
  "kernelspec": {
   "display_name": "Python 3",
   "language": "python",
   "name": "python3"
  },
  "language_info": {
   "codemirror_mode": {
    "name": "ipython",
    "version": 3
   },
   "file_extension": ".py",
   "mimetype": "text/x-python",
   "name": "python",
   "nbconvert_exporter": "python",
   "pygments_lexer": "ipython3",
   "version": "3.6.1"
  }
 },
 "nbformat": 4,
 "nbformat_minor": 2
}
