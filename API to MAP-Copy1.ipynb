{
 "cells": [
  {
   "cell_type": "code",
   "execution_count": 1,
   "metadata": {
    "collapsed": true
   },
   "outputs": [],
   "source": [
    "# Python 3.6\n",
    "# Jupyter notebook\n",
    "\n",
    "# Anaconda build\n",
    "import pandas as pd\n",
    "import requests\n",
    "import io\n",
    "import getpass\n",
    "\n",
    "from ipyleaflet import Map, Marker, CircleMarker, Polygon, basemaps\n",
    "from ipywidgets import Layout\n",
    "from math import log, pi\n",
    "\n",
    "iso_lay = Layout(width='1000px', height='640px')\n",
    "\n",
    "# pip install simple_salesforce\n",
    "from simple_salesforce import Salesforce"
   ]
  },
  {
   "cell_type": "code",
   "execution_count": 2,
   "metadata": {
    "collapsed": true
   },
   "outputs": [],
   "source": [
    "user = 'x'\n",
    "token = 'x'"
   ]
  },
  {
   "cell_type": "code",
   "execution_count": 3,
   "metadata": {},
   "outputs": [
    {
     "name": "stdout",
     "output_type": "stream",
     "text": [
      "········\n"
     ]
    }
   ],
   "source": [
    "sf = Salesforce(username= user, \n",
    "                password= getpass.getpass([]), \n",
    "                security_token= token)"
   ]
  },
  {
   "cell_type": "code",
   "execution_count": 4,
   "metadata": {
    "collapsed": true,
    "scrolled": true
   },
   "outputs": [],
   "source": [
    "def Report_API_call(reportID):\n",
    "    path = \"https://healthdata.my.salesforce.com/{}?view=d&snip&export=1&enc=UTF-8&xf=csv\".format(reportID)\n",
    "    response = response = requests.get(path, cookies = {'sid' : sf.session_id})\n",
    "    return pd.read_csv(io.StringIO(response.text), decimal =',')\n",
    "\n",
    "# 00O0O00000AkXaq\n",
    "a = Report_API_call('00O0O00000AkXaq')\n",
    "\n",
    "CHU_char = ['50.3954387','4.3694558']\n",
    "a['X-connect'] = a['Installation Type'].apply(lambda x: CHU_char if x == 'X-Connect' else False)\n",
    "\n",
    "index = a[['Account Name','Address Latitude','Address Longitude']]\n",
    "D_coo = {i:[x,y] for ix,i,x,y in index.itertuples()}\n",
    "a['Parent_coor'] = a['Parent Account'].apply(lambda x: D_coo[x] if not(pd.isnull(x)) and x in D_coo else False)\n",
    "a['Multi_coor'] = a['MultiCenterHost Naam'].apply(lambda x: D_coo[x] if not(pd.isnull(x)) and x in D_coo else False)"
   ]
  },
  {
   "cell_type": "code",
   "execution_count": 5,
   "metadata": {},
   "outputs": [
    {
     "data": {
      "application/vnd.jupyter.widget-view+json": {
       "model_id": "4c86e1b08a374f78955abf449fb02b16",
       "version_major": 2,
       "version_minor": 0
      },
      "text/plain": [
       "A Jupyter Widget"
      ]
     },
     "metadata": {},
     "output_type": "display_data"
    }
   ],
   "source": [
    "m = Map(center = [50.5039, 4.4699], \n",
    "        zoom=8, \n",
    "        layout= iso_lay,\n",
    "        basemap=basemaps.OpenStreetMap.BlackAndWhite\n",
    "        # http://leaflet-extras.github.io/leaflet-providers/preview/\n",
    "        #BlackAndWhite\n",
    "       )\n",
    "\n",
    "coo = a[['Address Longitude',\n",
    "         'Address Latitude',\n",
    "         'Account Name',\n",
    "         'Number of users',\n",
    "         'Main Installation',\n",
    "         'Parent Account',\n",
    "         'MultiCenterHost Naam',\n",
    "         'Parent_coor',\n",
    "         'Multi_coor',\n",
    "         'X-connect'\n",
    "        ]]\n",
    "\n",
    "for i,long,lat,name,users,main,parent,multi,pc,mc,xc in coo.itertuples():\n",
    "    \n",
    "    cl = 'blue'\n",
    "    if main: \n",
    "        cl = 'green'        \n",
    "        if xc: \n",
    "            cl = 'brown'\n",
    "            \n",
    "        mark = Marker(location=[lat, long],\n",
    "                      title = name, \n",
    "                      draggable=False, \n",
    "                      # opacity=0.15, \n",
    "                      visible = False)\n",
    "        m.add_layer(mark)\n",
    "            \n",
    "    if long:\n",
    "        mark = CircleMarker(location=[lat, long], \n",
    "                            radius=int(2.5*(users/pi)**0.5 + 1),\n",
    "                            color = cl,\n",
    "                            weight = int(main),\n",
    "                            fill_color= cl)\n",
    "        m.add_layer(mark)\n",
    "  \n",
    "    if pc:\n",
    "        polygon = Polygon(\n",
    "            locations=[[lat, long], pc],\n",
    "            color=\"green\",\n",
    "            weight = 1\n",
    "            )\n",
    "        m.add_layer(polygon)        \n",
    "    elif mc:\n",
    "        polygon = Polygon(\n",
    "            locations=[[lat, long], mc],\n",
    "            color=\"blue\",\n",
    "            weight = 1\n",
    "            )\n",
    "        m.add_layer(polygon)\n",
    "m"
   ]
  },
  {
   "cell_type": "markdown",
   "metadata": {},
   "source": [
    "**Circles**\n",
    "\n",
    "    Size proportional to # users\n",
    "    Green, Main installations\n",
    "    Red, X-Connect    \n",
    "    Blue, Child accounts\n",
    "        \n",
    "**Lines**\n",
    "\n",
    "    Green, Multicenter installation\n",
    "    Blue, Child accounts"
   ]
  },
  {
   "cell_type": "code",
   "execution_count": 6,
   "metadata": {
    "collapsed": true
   },
   "outputs": [],
   "source": [
    "# 00O0O00000AkYJC\n",
    "b = Report_API_call('00O0O00000AkYJC')\n",
    "b['Last Modified Date'] = pd.to_datetime(b['Last Modified Date'], format='%d/%m/%Y')\n",
    "\n",
    "b['codage'] = b['Codage incoming'] == 'OK'\n",
    "b['ES'] = b['Elasticsearch'] == 'OK'\n",
    "\n",
    "idx = b.groupby(['Account: Account Name'])['Last Modified Date'].transform(max) == b['Last Modified Date']\n",
    "b[idx]\n",
    "\n",
    "\n",
    "c = a.merge(b[idx], 'left', left_on = 'Account Name', right_on = 'Account: Account Name')\n",
    "\n",
    "c = c.merge(c[['Account Name','ES']], 'left', left_on = 'Parent Account', right_on = 'Account Name', suffixes = ['','par'])\n",
    "c = c.merge(c[['Account Name','ES']], 'left', left_on = 'MultiCenterHost Naam', right_on = 'Account Name', suffixes = ['','mul'])\n",
    "\n",
    "c['ES_all'] = c['ES'] ^ c['ESpar'] ^ c['ESmul']\n",
    "\n",
    "c = c.merge(c[['Account Name','codage']], 'left', left_on = 'Parent Account', right_on = 'Account Name', suffixes = ['','par'])\n",
    "c = c.merge(c[['Account Name','codage']], 'left', left_on = 'MultiCenterHost Naam', right_on = 'Account Name', suffixes = ['','mul'])\n",
    "\n",
    "c['codage_all'] = c['codage'] ^ c['codagepar'] ^ c['codagemul']"
   ]
  },
  {
   "cell_type": "code",
   "execution_count": 7,
   "metadata": {},
   "outputs": [
    {
     "data": {
      "application/vnd.jupyter.widget-view+json": {
       "model_id": "820b01d7413e4b7e9c26376b13635772",
       "version_major": 2,
       "version_minor": 0
      },
      "text/plain": [
       "A Jupyter Widget"
      ]
     },
     "metadata": {},
     "output_type": "display_data"
    }
   ],
   "source": [
    "m = Map(center = [50.5039, 4.4699], \n",
    "        zoom=8, \n",
    "        layout= iso_lay,\n",
    "        basemap=basemaps.OpenStreetMap.BlackAndWhite\n",
    "        # http://leaflet-extras.github.io/leaflet-providers/preview/\n",
    "        #BlackAndWhite\n",
    "       )\n",
    "\n",
    "coo = c[['Address Longitude',\n",
    "         'Address Latitude',\n",
    "         'Account Name',\n",
    "         'Number of users',\n",
    "         'Main Installation',\n",
    "         'Parent Account',\n",
    "         'MultiCenterHost Naam',\n",
    "         \n",
    "         'Parent_coor',\n",
    "         'Multi_coor',\n",
    "         \n",
    "         'ES_all',\n",
    "         'codage_all'\n",
    "        ]]\n",
    "\n",
    "for i,long,lat,name,users,main,parent,multi,pc,mc,es,ca in coo.itertuples():\n",
    "    \n",
    "    cl = 'green'\n",
    "    if not(es):\n",
    "        cl = 'red'\n",
    "    \n",
    "    if main:            \n",
    "        mark = Marker(location=[lat, long],\n",
    "                      title = name, \n",
    "                      draggable=False, \n",
    "                      # opacity=0.15, \n",
    "                      visible = False)\n",
    "        m.add_layer(mark)\n",
    "            \n",
    "    if long:\n",
    "        mark = CircleMarker(location=[lat, long], \n",
    "                            radius=int(2.5*(users/pi)**0.5 + 1),\n",
    "                            color = cl,\n",
    "                            weight = 1,\n",
    "                            fill_color= cl)\n",
    "        m.add_layer(mark)\n",
    "  \n",
    "    if pc:\n",
    "        polygon = Polygon(\n",
    "            locations=[[lat, long], pc],\n",
    "            color=cl,\n",
    "            weight = 1\n",
    "            )\n",
    "        m.add_layer(polygon)        \n",
    "    elif mc:\n",
    "        polygon = Polygon(\n",
    "            locations=[[lat, long], mc],\n",
    "            color=cl,\n",
    "            weight = 1\n",
    "            )\n",
    "        m.add_layer(polygon)\n",
    "m"
   ]
  },
  {
   "cell_type": "code",
   "execution_count": 8,
   "metadata": {},
   "outputs": [
    {
     "data": {
      "application/vnd.jupyter.widget-view+json": {
       "model_id": "c827283952904fc098c2eea460dfe492",
       "version_major": 2,
       "version_minor": 0
      },
      "text/plain": [
       "A Jupyter Widget"
      ]
     },
     "metadata": {},
     "output_type": "display_data"
    }
   ],
   "source": [
    "m = Map(center = [50.5039, 4.4699], \n",
    "        zoom=8, \n",
    "        layout= iso_lay,\n",
    "        basemap=basemaps.OpenStreetMap.BlackAndWhite\n",
    "        # http://leaflet-extras.github.io/leaflet-providers/preview/\n",
    "        #BlackAndWhite\n",
    "       )\n",
    "\n",
    "coo = c[['Address Longitude',\n",
    "         'Address Latitude',\n",
    "         'Account Name',\n",
    "         'Number of users',\n",
    "         'Main Installation',\n",
    "         'Parent Account',\n",
    "         'MultiCenterHost Naam',\n",
    "         \n",
    "         'Parent_coor',\n",
    "         'Multi_coor',\n",
    "         \n",
    "         'ES_all',\n",
    "         'codage_all'\n",
    "        ]]\n",
    "\n",
    "for i,long,lat,name,users,main,parent,multi,pc,mc,es,ca in coo.itertuples():\n",
    "    \n",
    "    cl = 'green'\n",
    "    if not(ca):\n",
    "        cl = 'red'\n",
    "    \n",
    "    if main:            \n",
    "        mark = Marker(location=[lat, long],\n",
    "                      title = name, \n",
    "                      draggable=False, \n",
    "                      # opacity=0.15, \n",
    "                      visible = False)\n",
    "        m.add_layer(mark)\n",
    "            \n",
    "    if long:\n",
    "        mark = CircleMarker(location=[lat, long], \n",
    "                            radius=int(2.5*(users/pi)**0.5 + 1),\n",
    "                            color = cl,\n",
    "                            weight = 1,\n",
    "                            fill_color= cl)\n",
    "        m.add_layer(mark)\n",
    "  \n",
    "    if pc:\n",
    "        polygon = Polygon(\n",
    "            locations=[[lat, long], pc],\n",
    "            color=cl,\n",
    "            weight = 1\n",
    "            )\n",
    "        m.add_layer(polygon)        \n",
    "    elif mc:\n",
    "        polygon = Polygon(\n",
    "            locations=[[lat, long], mc],\n",
    "            color=cl,\n",
    "            weight = 1\n",
    "            )\n",
    "        m.add_layer(polygon)\n",
    "m"
   ]
  }
 ],
 "metadata": {
  "kernelspec": {
   "display_name": "Python 3",
   "language": "python",
   "name": "python3"
  },
  "language_info": {
   "codemirror_mode": {
    "name": "ipython",
    "version": 3
   },
   "file_extension": ".py",
   "mimetype": "text/x-python",
   "name": "python",
   "nbconvert_exporter": "python",
   "pygments_lexer": "ipython3",
   "version": "3.6.3"
  }
 },
 "nbformat": 4,
 "nbformat_minor": 2
}
